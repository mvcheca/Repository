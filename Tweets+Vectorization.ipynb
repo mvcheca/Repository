{
 "cells": [
  {
   "cell_type": "code",
   "execution_count": 1,
   "metadata": {},
   "outputs": [
    {
     "data": {
      "text/plain": [
       "[('00001', 'odd'),\n",
       " ('00010', 'even'),\n",
       " ('00011', 'odd'),\n",
       " ('00100', 'even'),\n",
       " ('00101', 'odd'),\n",
       " ('00110', 'even'),\n",
       " ('00111', 'odd'),\n",
       " ('01000', 'even'),\n",
       " ('01001', 'odd'),\n",
       " ('01010', 'even'),\n",
       " ('01011', 'odd'),\n",
       " ('01100', 'even'),\n",
       " ('01101', 'odd'),\n",
       " ('01110', 'even'),\n",
       " ('01111', 'odd'),\n",
       " ('10000', 'even'),\n",
       " ('10001', 'odd'),\n",
       " ('10010', 'even'),\n",
       " ('10011', 'odd'),\n",
       " ('10100', 'even'),\n",
       " ('10101', 'odd'),\n",
       " ('10110', 'even'),\n",
       " ('10111', 'odd'),\n",
       " ('11000', 'even'),\n",
       " ('11001', 'odd'),\n",
       " ('11010', 'even'),\n",
       " ('11011', 'odd'),\n",
       " ('11100', 'even'),\n",
       " ('11101', 'odd'),\n",
       " ('11110', 'even'),\n",
       " ('11111', 'odd')]"
      ]
     },
     "execution_count": 1,
     "metadata": {},
     "output_type": "execute_result"
    }
   ],
   "source": [
    "truth = ['odd', 'even'] # Uses some human readiable text to make reading results easier\n",
    "training_data = [\n",
    "    (\"{:05d}\".format(\n",
    "        int(str(bin(x)).replace(\"0b\",\"\")))\n",
    "        , truth[int(x%2 == 0)])\n",
    "            for x in range(1,32)]\n",
    "\n",
    "training_data"
   ]
  },
  {
   "cell_type": "code",
   "execution_count": 2,
   "metadata": {
    "collapsed": true
   },
   "outputs": [],
   "source": [
    "from operator import itemgetter"
   ]
  },
  {
   "cell_type": "code",
   "execution_count": 3,
   "metadata": {
    "collapsed": true
   },
   "outputs": [],
   "source": [
    "# problem 2: Classify Tweets by Topics"
   ]
  },
  {
   "cell_type": "code",
   "execution_count": 10,
   "metadata": {},
   "outputs": [
    {
     "name": "stdout",
     "output_type": "stream",
     "text": [
      "corpus size = 170 n pets = 85 n hats = 85\n"
     ]
    }
   ],
   "source": [
    "corpus = open(\"pets.txt\", 'rb').readlines()\n",
    "n_pets = len(corpus)\n",
    "corpus.extend(open(\"hats.txt\",\"rb\").readlines())\n",
    "n_hats = len(corpus) - n_pets\n",
    "Y = [0]*n_pets + [1] * n_hats\n",
    "print \"corpus size = {} n pets = {} n hats = {}\".format(len(corpus), n_pets, n_hats)"
   ]
  },
  {
   "cell_type": "code",
   "execution_count": 11,
   "metadata": {},
   "outputs": [
    {
     "name": "stdout",
     "output_type": "stream",
     "text": [
      "@ATLTurnUpRadio can I send u some music big dog\n",
      "\n",
      "**DARLING KITTEN DUO OF DELIGHT NEEDS A LOVING CAT PARENT - PLEASE GRANT PANDA &amp; LAYLA A DEATH ROW PARDON!!!***... http://t.co/RhriqIFz1Q\n",
      "\n",
      "How chubby is this cat btw! Hahaha http://t.co/fwziGFOlce via\n",
      "\n",
      "RT @hat_films: I liked a @YouTube video http://t.co/wyVzJByRLd BAFTA Young Game Designers: Winners Ceremony\n",
      "\n",
      "RT @XFilesbutemoji: đ đŚscully guess what!  đŠyou finally got your high school diploma đ đŚno, i found this funny hat đ đŚi'm a wizard!\n",
      "\n"
     ]
    }
   ],
   "source": [
    "print corpus[2]\n",
    "print corpus[12]\n",
    "print corpus[20]\n",
    "print corpus[130]\n",
    "print corpus[150]"
   ]
  },
  {
   "cell_type": "code",
   "execution_count": 12,
   "metadata": {
    "collapsed": true
   },
   "outputs": [],
   "source": [
    "from sklearn.feature_extraction.text import TfidfVectorizer\n",
    "vec = TfidfVectorizer(min_df = 2)\n",
    "X = vec.fit_transform(corpus)"
   ]
  },
  {
   "cell_type": "code",
   "execution_count": 13,
   "metadata": {},
   "outputs": [
    {
     "name": "stdout",
     "output_type": "stream",
     "text": [
      "Im gonna eat my hat\n",
      "\n",
      "  (0, 141)\t0.331415548236\n",
      "  (0, 98)\t0.642536490438\n",
      "  (0, 53)\t0.642536490438\n",
      "  (0, 84)\t0.253884720489\n",
      "**DARLING KITTEN DUO OF DELIGHT NEEDS A LOVING CAT PARENT - PLEASE GRANT PANDA &amp; LAYLA A DEATH ROW PARDON!!!***... http://t.co/DVpyGOWrus\n",
      "\n",
      "  (0, 34)\t0.152777596803\n",
      "  (0, 36)\t0.0969446325662\n",
      "  (0, 95)\t0.0947816953278\n",
      "  (0, 154)\t0.155036695572\n",
      "  (0, 42)\t0.256294694664\n",
      "  (0, 110)\t0.256294694664\n",
      "  (0, 52)\t0.256294694664\n",
      "  (0, 45)\t0.256294694664\n",
      "  (0, 145)\t0.241674302167\n",
      "  (0, 126)\t0.256294694664\n",
      "  (0, 169)\t0.256294694664\n",
      "  (0, 177)\t0.230333844711\n",
      "  (0, 79)\t0.256294694664\n",
      "  (0, 167)\t0.256294694664\n",
      "  (0, 7)\t0.185841337931\n",
      "  (0, 114)\t0.256294694664\n",
      "  (0, 44)\t0.256294694664\n",
      "  (0, 191)\t0.256294694664\n",
      "  (0, 168)\t0.256294694664\n",
      "@Radiant_Nea Oh. I put a pen spring on mine where it plugs into my phone. I've also seen ppl coat that part in super glue to reinforce it...\n",
      "\n",
      "  (0, 99)\t0.149988834856\n",
      "  (0, 141)\t0.145368314893\n",
      "  (0, 229)\t0.134562725663\n",
      "  (0, 216)\t0.199673803711\n",
      "  (0, 182)\t0.281834836566\n",
      "  (0, 100)\t0.257804274945\n",
      "  (0, 239)\t0.257804274945\n",
      "  (0, 197)\t0.268609864175\n",
      "  (0, 158)\t0.170899378363\n",
      "  (0, 104)\t0.337325270555\n",
      "  (0, 252)\t0.298884791373\n",
      "  (0, 156)\t0.268609864175\n",
      "  (0, 37)\t0.203498786128\n",
      "  (0, 174)\t0.298884791373\n",
      "  (0, 171)\t0.298884791373\n",
      "  (0, 210)\t0.298884791373\n",
      "RT @Jumpman23: No matter what hat you wear, tip it to The Captain. #RE2PECT https://t.co/lHFpcyYK86\n",
      "\n",
      "  (0, 217)\t0.159618238609\n",
      "  (0, 96)\t0.364710821436\n",
      "  (0, 36)\t0.14629919797\n",
      "  (0, 229)\t0.174132065466\n",
      "  (0, 260)\t0.207663974331\n",
      "  (0, 192)\t0.162309551008\n",
      "  (0, 250)\t0.294436331325\n",
      "  (0, 104)\t0.218259350076\n",
      "  (0, 84)\t0.144107776504\n",
      "  (0, 247)\t0.364710821436\n",
      "  (0, 149)\t0.364710821436\n",
      "  (0, 228)\t0.386774463741\n",
      "  (0, 185)\t0.386774463741\n"
     ]
    }
   ],
   "source": [
    "print corpus[101]\n",
    "print X[101]\n",
    "print corpus[11]\n",
    "print X[11]\n",
    "print corpus[121]\n",
    "print X[121]\n",
    "print corpus[131]\n",
    "print X[131]"
   ]
  },
  {
   "cell_type": "code",
   "execution_count": 14,
   "metadata": {},
   "outputs": [
    {
     "name": "stdout",
     "output_type": "stream",
     "text": [
      "[0]\n",
      "[0]\n",
      "[0]\n",
      "[1]\n",
      "[1]\n",
      "[1]\n"
     ]
    }
   ],
   "source": [
    "from sklearn.naive_bayes import MultinomialNB\n",
    "clf = MultinomialNB()\n",
    "clf.fit(X, Y)\n",
    "print(clf.predict(X[12]))\n",
    "print(clf.predict(X[22]))\n",
    "print(clf.predict(X[32]))\n",
    "print(clf.predict(X[120]))\n",
    "print(clf.predict(X[130]))\n",
    "print(clf.predict(X[140]))\n"
   ]
  },
  {
   "cell_type": "code",
   "execution_count": 15,
   "metadata": {},
   "outputs": [
    {
     "name": "stdout",
     "output_type": "stream",
     "text": [
      "correct = 170 (100.000000%)\n"
     ]
    }
   ],
   "source": [
    "correct = 0\n",
    "for i, doc in enumerate(corpus):\n",
    "    if Y[i] == clf.predict(X[i]):\n",
    "        correct +=1\n",
    "    else:\n",
    "        print i, Y[i], clf.predict(X[i]), doc\n",
    "print \"correct = {} ({:%})\".format(correct, float(correct)/len(corpus))"
   ]
  },
  {
   "cell_type": "code",
   "execution_count": 23,
   "metadata": {},
   "outputs": [
    {
     "name": "stdout",
     "output_type": "stream",
     "text": [
      "PETS\n",
      "[0]\n",
      "[0]\n",
      "[0]\n",
      "[1]\n",
      "[1]\n",
      "[1]\n",
      "[1]\n",
      "[1]\n",
      "[1]\n",
      "[1]\n",
      "[0]\n",
      "[0]\n"
     ]
    }
   ],
   "source": [
    "print \"PETS\"\n",
    "print clf.predict(vec.transform([\"My dog has fleas\"])) # seems clear\n",
    "print clf.predict(vec.transform(['Grab your cat and moat'])) # also clear\n",
    "print clf.predict(vec.transform(['This pet is a hamster'])) # not in the original word list, but pet nevertheless\n",
    "print clf.predict(vec.transform(['socks can be the name of a pet'])) # pet\n",
    "print clf.predict(vec.transform(['But hats is not usually the name of a pet'])) # pet\n",
    "print clf.predict(vec.transform(['Grab your hat and coat']))# obvious\n",
    "print clf.predict(vec.transform(['My socks and shoes are dirty'])) # obvious but too far?\n",
    "print clf.predict(vec.transform(['These come in hard, tinfoil, thinking and mortar boards'])) # tricky\n",
    "print clf.predict(vec.transform([\"Redhat's logo is a fedora\"])) # ok\n",
    "print clf.predict(vec.transform([\"The cat in the hat\"])) # mixed, confound it!\n",
    "print clf.predict(vec.transform([\"Hiding a haircut under there?\"])) # infered?\n",
    "print clf.predict(vec.transform([\"Mackinaw or Toque\"])) # Too far?"
   ]
  },
  {
   "cell_type": "code",
   "execution_count": null,
   "metadata": {
    "collapsed": true
   },
   "outputs": [],
   "source": []
  }
 ],
 "metadata": {
  "kernelspec": {
   "display_name": "Python 2",
   "language": "python",
   "name": "python2"
  },
  "language_info": {
   "codemirror_mode": {
    "name": "ipython",
    "version": 2
   },
   "file_extension": ".py",
   "mimetype": "text/x-python",
   "name": "python",
   "nbconvert_exporter": "python",
   "pygments_lexer": "ipython2",
   "version": "2.7.13"
  }
 },
 "nbformat": 4,
 "nbformat_minor": 2
}
