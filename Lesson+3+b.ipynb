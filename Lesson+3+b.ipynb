{
 "cells": [
  {
   "cell_type": "code",
   "execution_count": 1,
   "metadata": {
    "collapsed": true
   },
   "outputs": [],
   "source": [
    "# Import all libraries needed for the tutorial\n",
    "import pandas as pd\n",
    "import numpy as np\n",
    "from numpy import sum\n",
    "import matplotlib.pyplot as plt\n",
    "import sys # only needed to determine Python version number\n",
    "\n",
    "# Enable incline plotting\n",
    "%matplotlib inline"
   ]
  },
  {
   "cell_type": "code",
   "execution_count": 3,
   "metadata": {},
   "outputs": [
    {
     "name": "stdout",
     "output_type": "stream",
     "text": [
      "<class 'pandas.core.frame.DataFrame'>\n",
      "RangeIndex: 492895 entries, 0 to 492894\n",
      "Data columns (total 4 columns):\n",
      "name      492895 non-null object\n",
      "sex       492895 non-null object\n",
      "births    492895 non-null int64\n",
      "year      492895 non-null int64\n",
      "dtypes: int64(2), object(2)\n",
      "memory usage: 15.0+ MB\n"
     ]
    }
   ],
   "source": [
    "# wehne developing your example at first use a smaller data set then enlarge it oce things seem to be working. This will help iPython and Pandas to run faster\n",
    "# years = range(1880,2015)\n",
    "years = range (2000,2015)\n",
    "\n",
    "# Your location may vary..\n",
    "Location = r'C:\\Users\\GBTC441017ur\\Desktop\\names\\\\'\n",
    "\n",
    "#Location = 'babynames/names/'  # on Mac and Unix use single /, on Windows use double \\\\\n",
    "\n",
    "# create a Python list called pieces\n",
    "pieces =[]\n",
    "columns = ['name', 'sex', 'births']\n",
    "\n",
    "for year in years:\n",
    "    path = Location + 'yob%d.txt' % year\n",
    "    # print(path) # remove the # at the beginning of this line t display the path to the file\n",
    "    \n",
    "    # create a dataframe from each file and read each file into the dataframe\n",
    "    #because each file contains the data for one year each frame is for the year of the file\n",
    "    \n",
    "    frame = pd.read_csv(path, names = columns)\n",
    "    \n",
    "    # add the year column and append all the dataframes to the pieces list\n",
    "    frame['year']= year\n",
    "    pieces.append(frame)\n",
    "    \n",
    "# Concatenate everything into a single Dataframe\n",
    "names = pd.concat(pieces, ignore_index = True)\n",
    "\n",
    "# inspect your names Dataframe\n",
    "names.info()"
   ]
  },
  {
   "cell_type": "code",
   "execution_count": 4,
   "metadata": {
    "collapsed": true
   },
   "outputs": [],
   "source": [
    "# note: this differs from the example in the book (p. 34) to work with py3\n",
    "total_births = names.pivot_table('births', index=['year'], columns ='sex', aggfunc = sum)"
   ]
  },
  {
   "cell_type": "code",
   "execution_count": 5,
   "metadata": {},
   "outputs": [
    {
     "data": {
      "text/html": [
       "<div>\n",
       "<style>\n",
       "    .dataframe thead tr:only-child th {\n",
       "        text-align: right;\n",
       "    }\n",
       "\n",
       "    .dataframe thead th {\n",
       "        text-align: left;\n",
       "    }\n",
       "\n",
       "    .dataframe tbody tr th {\n",
       "        vertical-align: top;\n",
       "    }\n",
       "</style>\n",
       "<table border=\"1\" class=\"dataframe\">\n",
       "  <thead>\n",
       "    <tr style=\"text-align: right;\">\n",
       "      <th>sex</th>\n",
       "      <th>F</th>\n",
       "      <th>M</th>\n",
       "    </tr>\n",
       "    <tr>\n",
       "      <th>year</th>\n",
       "      <th></th>\n",
       "      <th></th>\n",
       "    </tr>\n",
       "  </thead>\n",
       "  <tbody>\n",
       "    <tr>\n",
       "      <th>2010</th>\n",
       "      <td>1772738</td>\n",
       "      <td>1913851</td>\n",
       "    </tr>\n",
       "    <tr>\n",
       "      <th>2011</th>\n",
       "      <td>1753500</td>\n",
       "      <td>1893230</td>\n",
       "    </tr>\n",
       "    <tr>\n",
       "      <th>2012</th>\n",
       "      <td>1753922</td>\n",
       "      <td>1889414</td>\n",
       "    </tr>\n",
       "    <tr>\n",
       "      <th>2013</th>\n",
       "      <td>1745339</td>\n",
       "      <td>1881463</td>\n",
       "    </tr>\n",
       "    <tr>\n",
       "      <th>2014</th>\n",
       "      <td>1768775</td>\n",
       "      <td>1901376</td>\n",
       "    </tr>\n",
       "  </tbody>\n",
       "</table>\n",
       "</div>"
      ],
      "text/plain": [
       "sex         F        M\n",
       "year                  \n",
       "2010  1772738  1913851\n",
       "2011  1753500  1893230\n",
       "2012  1753922  1889414\n",
       "2013  1745339  1881463\n",
       "2014  1768775  1901376"
      ]
     },
     "execution_count": 5,
     "metadata": {},
     "output_type": "execute_result"
    }
   ],
   "source": [
    "total_births.tail()"
   ]
  },
  {
   "cell_type": "code",
   "execution_count": 7,
   "metadata": {},
   "outputs": [
    {
     "data": {
      "image/png": "[encoded data removed]",
      "text/plain": [
       "<matplotlib.figure.Figure at 0x8f59d30>"
      ]
     },
     "metadata": {},
     "output_type": "display_data"
    }
   ],
   "source": [
    "# see page 34 of the book\n",
    "# create a column, prop, to hold the proportion of the babies given each name relative to the total births\n",
    "total_births.plot(title = 'Total births by sex and year')\n",
    "\n",
    "def add_prop(group):\n",
    "    # Integer division floors\n",
    "    births = group.births.astype(float)\n",
    "    \n",
    "    group['prop'] = births/births.sum()\n",
    "    return group\n",
    "\n",
    "names = names.groupby(['year', 'sex']).apply(add_prop)"
   ]
  },
  {
   "cell_type": "code",
   "execution_count": null,
   "metadata": {
    "collapsed": true
   },
   "outputs": [],
   "source": []
  }
 ],
 "metadata": {
  "kernelspec": {
   "display_name": "Python 2",
   "language": "python",
   "name": "python2"
  },
  "language_info": {
   "codemirror_mode": {
    "name": "ipython",
    "version": 2
   },
   "file_extension": ".py",
   "mimetype": "text/x-python",
   "name": "python",
   "nbconvert_exporter": "python",
   "pygments_lexer": "ipython2",
   "version": "2.7.13"
  }
 },
 "nbformat": 4,
 "nbformat_minor": 2
}
